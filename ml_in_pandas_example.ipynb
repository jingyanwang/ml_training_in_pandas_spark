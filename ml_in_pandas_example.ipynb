{
 "cells": [
  {
   "cell_type": "markdown",
   "metadata": {
    "application/vnd.databricks.v1+cell": {
     "cellMetadata": {},
     "inputWidgets": {},
     "nuid": "8dbd3cc5-1474-463c-a884-7913ff80c546",
     "showTitle": false,
     "title": ""
    }
   },
   "source": [
    "# packages"
   ]
  },
  {
   "cell_type": "code",
   "execution_count": 0,
   "metadata": {
    "application/vnd.databricks.v1+cell": {
     "cellMetadata": {
      "byteLimit": 2048000,
      "rowLimit": 10000
     },
     "inputWidgets": {},
     "nuid": "f4a3edca-f20f-40e4-89aa-6b0605a7e323",
     "showTitle": false,
     "title": ""
    }
   },
   "outputs": [
    {
     "output_type": "stream",
     "name": "stdout",
     "output_type": "stream",
     "text": [
      "Requirement already satisfied: lightgbm in /databricks/python3/lib/python3.9/site-packages (3.3.2)\r\nRequirement already satisfied: numpy in /databricks/python3/lib/python3.9/site-packages (from lightgbm) (1.20.3)\r\nRequirement already satisfied: scipy in /databricks/python3/lib/python3.9/site-packages (from lightgbm) (1.7.1)\r\nRequirement already satisfied: scikit-learn!=0.22.0 in /databricks/python3/lib/python3.9/site-packages (from lightgbm) (0.24.2)\r\nRequirement already satisfied: wheel in /databricks/python3/lib/python3.9/site-packages (from lightgbm) (0.37.0)\r\nRequirement already satisfied: threadpoolctl>=2.0.0 in /databricks/python3/lib/python3.9/site-packages (from scikit-learn!=0.22.0->lightgbm) (2.2.0)\r\nRequirement already satisfied: joblib>=0.11 in /databricks/python3/lib/python3.9/site-packages (from scikit-learn!=0.22.0->lightgbm) (1.0.1)\r\n\u001B[33mWARNING: You are using pip version 21.2.4; however, version 23.1.1 is available.\r\nYou should consider upgrading via the '/local_disk0/.ephemeral_nfs/envs/pythonEnv-38988a65-edd1-42ba-91ba-b0da5880e5ed/bin/python -m pip install --upgrade pip' command.\u001B[0m\r\n"
     ]
    }
   ],
   "source": [
    "!pip install lightgbm"
   ]
  },
  {
   "cell_type": "code",
   "execution_count": 0,
   "metadata": {
    "application/vnd.databricks.v1+cell": {
     "cellMetadata": {
      "byteLimit": 2048000,
      "rowLimit": 10000
     },
     "inputWidgets": {},
     "nuid": "163130a9-276f-4790-b4c2-a3f8e1818906",
     "showTitle": false,
     "title": ""
    }
   },
   "outputs": [
    {
     "output_type": "stream",
     "name": "stdout",
     "output_type": "stream",
     "text": [
      "Collecting catboost\r\n  Downloading catboost-1.1.1-cp39-none-manylinux1_x86_64.whl (76.6 MB)\r\n\u001B[?25l\r\u001B[K     |                                | 10 kB 21.6 MB/s eta 0:00:04\r\u001B[K     |                                | 20 kB 16.0 MB/s eta 0:00:05\r\u001B[K     |                                | 30 kB 21.6 MB/s eta 0:00:04\r\u001B[K     |                                | 40 kB 15.5 MB/s eta 0:00:05\r\u001B[K     |                                | 51 kB 11.7 MB/s eta 0:00:07\r\u001B[K     |                                | 61 kB 13.6 MB/s eta 0:00:06\r\u001B[K     |                                | 71 kB 14.7 MB/s eta 0:00:06\r\u001B[K     |                                | 81 kB 13.9 MB/s eta 0:00:06\r\u001B[K     |                                | 92 kB 15.2 MB/s eta 0:00:06\r\u001B[K     |                                | 102 kB 13.3 MB/s eta 0:00:06\r\u001B[K     |                                | 112 kB 13.3 MB/s eta 0:00:06\r\u001B[K     |                                | 122 kB 13.3 MB/s eta 0:00:06\r\u001B[K     |                                | 133 kB 13.3 MB/s eta 0:00:06\r\u001B[K     |                                | 143 kB 13.3 MB/s eta 0:00:06\r\u001B[K     |                                | 153 kB 13.3 MB/s eta 0:00:06\r\u001B[K     |                                | 163 kB 13.3 MB/s eta 0:00:06\r\u001B[K     |                                | 174 kB 13.3 MB/s eta 0:00:06\r\u001B[K     |                                | 184 kB 13.3 MB/s eta 0:00:06\r\u001B[K     |                                | 194 kB 13.3 MB/s eta 0:00:06\r\u001B[K     |                                | 204 kB 13.3 MB/s eta 0:00:06\r\u001B[K     |                                | 215 kB 13.3 MB/s eta 0:00:06\r\u001B[K     |                                | 225 kB 13.3 MB/s eta 0:00:06\r\u001B[K     |                                | 235 kB 13.3 MB/s eta 0:00:06\r\u001B[K     |                                | 245 kB 13.3 MB/s eta 0:00:06\r\u001B[K     |                                | 256 kB 13.3 MB/s eta 0:00:06\r\u001B[K     |▏                               | 266 kB 13.3 MB/s eta 0:00:06\r\u001B[K     |▏                               | 276 kB 13.3 MB/s eta 0:00:06\r\u001B[K     |▏                               | 286 kB 13.3 MB/s eta 0:00:06\r\u001B[K     |▏                               | 296 kB 13.3 MB/s eta 0:00:06\r\u001B[K     |▏                               | 307 kB 13.3 MB/s eta 0:00:06\r\u001B[K     |▏                               | 317 kB 13.3 MB/s eta 0:00:06\r\u001B[K     |▏                               | 327 kB 13.3 MB/s eta 0:00:06\r\u001B[K     |▏                               | 337 kB 13.3 MB/s eta 0:00:06\r\u001B[K     |▏                               | 348 kB 13.3 MB/s eta 0:00:06\r\u001B[K     |▏                               | 358 kB 13.3 MB/s eta 0:00:06\r\u001B[K     |▏                               | 368 kB 13.3 MB/s eta 0:00:06\r\u001B[K     |▏                               | 378 kB 13.3 MB/s eta 0:00:06\r\u001B[K     |▏                               | 389 kB 13.3 MB/s eta 0:00:06\r\u001B[K     |▏                               | 399 kB 13.3 MB/s eta 0:00:06\r\u001B[K     |▏                               | 409 kB 13.3 MB/s eta 0:00:06\r\u001B[K     |▏                               | 419 kB 13.3 MB/s eta 0:00:06\r\u001B[K     |▏                               | 430 kB 13.3 MB/s eta 0:00:06\r\u001B[K     |▏                               | 440 kB 13.3 MB/s eta 0:00:06\r\u001B[K     |▏                               | 450 kB 13.3 MB/s eta 0:00:06\r\u001B[K     |▏                               | 460 kB 13.3 MB/s eta 0:00:06\r\u001B[K     |▏                               | 471 kB 13.3 MB/s eta 0:00:06\r\u001B[K     |▏                               | 481 kB 13.3 MB/s eta 0:00:06\r\u001B[K     |▏                               | 491 kB 13.3 MB/s eta 0:00:06\r\u001B[K     |▏                               | 501 kB 13.3 MB/s eta 0:00:06\r\u001B[K     |▏                               | 512 kB 13.3 MB/s eta 0:00:06\r\u001B[K     |▏                               | 522 kB 13.3 MB/s eta 0:00:06\r\u001B[K     |▎                               | 532 kB 13.3 MB/s eta 0:00:06\r\u001B[K     |▎                               | 542 kB 13.3 MB/s eta 0:00:06\r\u001B[K     |▎                               | 552 kB 13.3 MB/s eta 0:00:06\r\u001B[K     |▎                               | 563 kB 13.3 MB/s eta 0:00:06\r\u001B[K     |▎                               | 573 kB 13.3 MB/s eta 0:00:06\r\u001B[K     |▎                               | 583 kB 13.3 MB/s eta 0:00:06\r\u001B[K     |▎                               | 593 kB 13.3 MB/s eta 0:00:06\r\u001B[K     |▎                               | 604 kB 13.3 MB/s eta 0:00:06\r\u001B[K     |▎                               | 614 kB 13.3 MB/s eta 0:00:06\r\u001B[K     |▎                               | 624 kB 13.3 MB/s eta 0:00:06\r\u001B[K     |▎                               | 634 kB 13.3 MB/s eta 0:00:06\r\u001B[K     |▎                               | 645 kB 13.3 MB/s eta 0:00:06\r\u001B[K     |▎                               | 655 kB 13.3 MB/s eta 0:00:06\r\u001B[K     |▎                               | 665 kB 13.3 MB/s eta 0:00:06\r\u001B[K     |▎                               | 675 kB 13.3 MB/s eta 0:00:06\r\u001B[K     |▎                               | 686 kB 13.3 MB/s eta 0:00:06\r\u001B[K     |▎                               | 696 kB 13.3 MB/s eta 0:00:06\r\u001B[K     |▎                               | 706 kB 13.3 MB/s eta 0:00:06\r\u001B[K     |▎                               | 716 kB 13.3 MB/s eta 0:00:06\r\u001B[K     |▎                               | 727 kB 13.3 MB/s eta 0:00:06\r\u001B[K     |▎                               | 737 kB 13.3 MB/s eta 0:00:06\r\u001B[K     |▎                               | 747 kB 13.3 MB/s eta 0:00:06\r\u001B[K     |▎                               | 757 kB 13.3 MB/s eta 0:00:06\r\u001B[K     |▎                               | 768 kB 13.3 MB/s eta 0:00:06\r\u001B[K     |▎                               | 778 kB 13.3 MB/s eta 0:00:06\r\u001B[K     |▎                               | 788 kB 13.3 MB/s eta 0:00:06\r\u001B[K     |▍                               | 798 kB 13.3 MB/s eta 0:00:06\r\u001B[K     |▍                               | 808 kB 13.3 MB/s eta 0:00:06\r\u001B[K     |▍                               | 819 kB 13.3 MB/s eta 0:00:06\r\u001B[K     |▍                               | 829 kB 13.3 MB/s eta 0:00:06\r\u001B[K     |▍                               | 839 kB 13.3 MB/s eta 0:00:06\r\u001B[K     |▍                               | 849 kB 13.3 MB/s eta 0:00:06\r\u001B[K     |▍                               | 860 kB 13.3 MB/s eta 0:00:06\r\u001B[K     |▍                               | 870 kB 13.3 MB/s eta 0:00:06\r\u001B[K     |▍                               | 880 kB 13.3 MB/s eta 0:00:06\r\u001B[K     |▍                               | 890 kB 13.3 MB/s eta 0:00:06\r\u001B[K     |▍                               | 901 kB 13.3 MB/s eta 0:00:06\r\u001B[K     |▍                               | 911 kB 13.3 MB/s eta 0:00:06\r\u001B[K     |▍                               | 921 kB 13.3 MB/s eta 0:00:06\r\u001B[K     |▍                               | 931 kB 13.3 MB/s eta 0:00:06\r\u001B[K     |▍                               | 942 kB 13.3 MB/s eta 0:00:06\r\u001B[K     |▍                               | 952 kB 13.3 MB/s eta 0:00:06\r\u001B[K     |▍                               | 962 kB 13.3 MB/s eta 0:00:06\r\u001B[K     |▍                               | 972 kB 13.3 MB/s eta 0:00:06\r\u001B[K     |▍                               | 983 kB 13.3 MB/s eta 0:00:06\r\u001B[K     |▍                               | 993 kB 13.3 MB/s eta 0:00:06\r\u001B[K     |▍                               | 1.0 MB 13.3 MB/s eta 0:00:06\r\u001B[K     |▍                               | 1.0 MB 13.3 MB/s eta 0:00:06\r\u001B[K     |▍                               | 1.0 MB 13.3 MB/s eta 0:00:06\r\u001B[K     |▍                               | 1.0 MB 13.3 MB/s eta 0:00:06\r\u001B[K     |▍                               | 1.0 MB 13.3 MB/s eta 0:00:06\r\u001B[K     |▍                               | 1.1 MB 13.3 MB/s eta 0:00:06\r\u001B[K     |▌                               | 1.1 MB 13.3 MB/s eta 0:00:06\r\u001B[K     |▌                               | 1.1 MB 13.3 MB/s eta 0:00:06\r\u001B[K     |▌                               | 1.1 MB 13.3 MB/s eta 0:00:06\r\u001B[K     |▌                               | 1.1 MB 13.3 MB/s eta 0:00:06\r\u001B[K     |▌                               | 1.1 MB 13.3 MB/s eta 0:00:06\r\u001B[K     |▌                               | 1.1 MB 13.3 MB/s eta 0:00:06\r\u001B[K     |▌                               | 1.1 MB 13.3 MB/s eta 0:00:06\r\u001B[K     |▌                               | 1.1 MB 13.3 MB/s eta 0:00:06\r\u001B[K     |▌                               | 1.1 MB 13.3 MB/s eta 0:00:06\r\u001B[K     |▌                               | 1.2 MB 13.3 MB/s eta 0:00:06\r\u001B[K     |▌                               | 1.2 MB 13.3 MB/s eta 0:00:06\r\u001B[K     |▌                               | 1.2 MB 13.3 MB/s eta 0:00:06\r\u001B[K     |▌                               | 1.2 MB 13.3 MB/s eta 0:00:06\r\u001B[K     |▌                               | 1.2 MB 13.3 MB/s eta 0:00:06\r\u001B[K     |▌                               | 1.2 MB 13.3 MB/s eta 0:00:06\r\u001B[K     |▌                               | 1.2 MB 13.3 MB/s eta 0:00:06\r\u001B[K     |▌                               | 1.2 MB 13.3 MB/s eta 0:00:06\r\u001B[K     |▌                               | 1.2 MB 13.3 MB/s eta 0:00:06\r\u001B[K     |▌                               | 1.2 MB 13.3 MB/s eta 0:00:06\r\u001B[K     |▌                               | 1.3 MB 13.3 MB/s eta 0:00:06\r\u001B[K     |▌                               | 1.3 MB 13.3 MB/s eta 0:00:06\r\u001B[K     |▌                               | 1.3 MB 13.3 MB/s eta 0:00:06\r\u001B[K     |▌                               | 1.3 MB 13.3 MB/s eta 0:00:06\r\u001B[K     |▌                               | 1.3 MB 13.3 MB/s eta 0:00:06\r\u001B[K     |▌                               | 1.3 MB 13.3 MB/s eta 0:00:06\r\u001B[K     |▌                               | 1.3 MB 13.3 MB/s eta 0:00:06\r\u001B[K     |▋                               | 1.3 MB 13.3 MB/s eta 0:00:06\r\u001B[K     |▋                               | 1.3 MB 13.3 MB/s eta 0:00:06\r\u001B[K     |▋                               | 1.4 MB 13.3 MB/s eta 0:00:06\r\u001B[K     |▋                               | 1.4 MB 13.3 MB/s eta 0:00:06\r\u001B[K     |▋                               | 1.4 MB 13.3 MB/s eta 0:00:06\r\u001B[K     |▋                               | 1.4 MB 13.3 MB/s eta 0:00:06\r\u001B[K     |▋                               | 1.4 MB 13.3 MB/s eta 0:00:06\r\u001B[K     |▋                               | 1.4 MB 13.3 MB/s eta 0:00:06\r\u001B[K     |▋                               | 1.4 MB 13.3 MB/s eta 0:00:06\r\u001B[K     |▋                               | 1.4 MB 13.3 MB/s eta 0:00:06\r\u001B[K     |▋                               | 1.4 MB 13.3 MB/s eta 0:00:06\r\u001B[K     |▋                               | 1.4 MB 13.3 MB/s eta 0:00:06\r\u001B[K     |▋                               | 1.5 MB 13.3 MB/s eta 0:00:06\r\u001B[K     |▋                               | 1.5 MB 13.3 MB/s eta 0:00:06\r\u001B[K     |▋                               | 1.5 MB 13.3 MB/s eta 0:00:06\r\u001B[K     |▋                               | 1.5 MB 13.3 MB/s eta 0:00:06\r\u001B[K     |▋                               | 1.5 MB 13.3 MB/s eta 0:00:06\r\u001B[K     |▋                               | 1.5 MB 13.3 MB/s eta 0:00:06\r\u001B[K     |▋                               | 1.5 MB 13.3 MB/s eta 0:00:06\r\u001B[K     |▋                               | 1.5 MB 13.3 MB/s eta 0:00:06\r\u001B[K     |▋                               | 1.5 MB 13.3 MB/s eta 0:00:06\r\u001B[K     |▋                               | 1.5 MB 13.3 MB/s eta 0:00:06\r\u001B[K     |▋                               | 1.6 MB 13.3 MB/s eta 0:00:06\r\u001B[K     |▋                               | 1.6 MB 13.3 MB/s eta 0:00:06\r\u001B[K     |▋                               | 1.6 MB 13.3 MB/s eta 0:00:06\r\u001B[K     |▋                               | 1.6 MB 13.3 MB/s eta 0:00:06\r\u001B[K     |▊                               | 1.6 MB 13.3 MB/s eta 0:00:06\r\u001B[K     |▊                               | 1.6 MB 13.3 MB/s eta 0:00:06\r\u001B[K     |▊                               | 1.6 MB 13.3 MB/s eta 0:00:06\r\u001B[K     |▊                               | 1.6 MB 13.3 MB/s eta 0:00:06\r\u001B[K     |▊                               | 1.6 MB 13.3 MB/s eta 0:00:06\r\u001B[K     |▊                               | 1.6 MB 13.3 MB/s eta 0:00:06\r\u001B[K     |▊                               | 1.7 MB 13.3 MB/s eta 0:00:06\r\u001B[K     |▊                               | 1.7 MB 13.3 MB/s eta 0:00:06\r\u001B[K     |▊                               | 1.7 MB 13.3 MB/s eta 0:00:06\r\u001B[K     |▊                               | 1.7 MB 13.3 MB/s eta 0:00:06\r\u001B[K     |▊                               | 1.7 MB 13.3 MB/s eta 0:00:06\r\u001B[K     |▊                               | 1.7 MB 13.3 MB/s eta 0:00:06\r\u001B[K     |▊                               | 1.7 MB 13.3 MB/s eta 0:00:06\r\u001B[K     |▊                               | 1.7 MB 13.3 MB/s eta 0:00:06\r\u001B[K     |▊                               | 1.7 MB 13.3 MB/s eta 0:00:06\r\u001B[K     |▊                               | 1.8 MB 13.3 MB/s eta 0:00:06\r\u001B[K     |▊                               | 1.8 MB 13.3 MB/s eta 0:00:06\r\u001B[K     |▊                               | 1.8 MB 13.3 MB/s eta 0:00:06\r\u001B[K     |▊                               | 1.8 MB 13.3 MB/s eta 0:00:06\r\u001B[K     |▊                               | 1.8 MB 13.3 MB/s eta 0:00:06\r\u001B[K     |▊                               | 1.8 MB 13.3 MB/s eta 0:00:06\r\u001B[K     |▊                               | 1.8 MB 13.3 MB/s eta 0:00:06\r\u001B[K     |▊                               | 1.8 MB 13.3 MB/s eta 0:00:06\r\u001B[K     |▊                               | 1.8 MB 13.3 MB/s eta 0:00:06\r\u001B[K     |▊                               | 1.8 MB 13.3 MB/s eta 0:00:06\r\u001B[K     |▊                               | 1.9 MB 13.3 MB/s eta 0:00:06\r\u001B[K     |▉                               | 1.9 MB 13.3 MB/s eta 0:00:06\r\u001B[K     |▉                               | 1.9 MB 13.3 MB/s eta 0:00:06\r\u001B[K     |▉                               | 1.9 MB 13.3 MB/s eta 0:00:06\r\u001B[K     |▉                               | 1.9 MB 13.3 MB/s eta 0:00:06\r\u001B[K     |▉                               | 1.9 MB 13.3 MB/s eta 0:00:06\r\u001B[K     |▉                               | 1.9 MB 13.3 MB/s eta 0:00:06\r\u001B[K     |▉                               | 1.9 MB 13.3 MB/s eta 0:00:06\r\u001B[K     |▉                               | 1.9 MB 13.3 MB/s eta 0:00:06\r\u001B[K     |▉                               | 1.9 MB 13.3 MB/s eta 0:00:06\r\u001B[K     |▉                               | 2.0 MB 13.3 MB/s eta 0:00:06\r\u001B[K     |▉                               | 2.0 MB 13.3 MB/s eta 0:00:06\r\u001B[K     |▉                               | 2.0 MB 13.3 MB/s eta 0:00:06\r\u001B[K     |▉                               | 2.0 MB 13.3 MB/s eta 0:00:06\r\u001B[K     |▉                               | 2.0 MB 13.3 MB/s eta 0:00:06\r\u001B[K     |▉                               | 2.0 MB 13.3 MB/s eta 0:00:06\r\u001B[K     |▉                               | 2.0 MB 13.3 MB/s eta 0:00:06\r\u001B[K     |▉                               | 2.0 MB 13.3 MB/s eta 0:00:06\r\u001B[K     |▉                               | 2.0 MB 13.3 MB/s eta 0:00:06\r\u001B[K     |▉                               | 2.0 MB 13.3 MB/s eta 0:00:06\r\u001B[K     |▉                               | 2.1 MB 13.3 MB/s eta 0:00:06\r\u001B[K     |▉                               | 2.1 MB 13.3 MB/s eta 0:00:06\r\u001B[K     |▉                               | 2.1 MB 13.3 MB/s eta 0:00:06\r\u001B[K     |▉                               | 2.1 MB 13.3 MB/s eta 0:00:06\r\u001B[K     |▉                               | 2.1 MB 13.3 MB/s eta 0:00:06\r\u001B[K     |▉                               | 2.1 MB 13.3 MB/s eta 0:00:06\r\u001B[K     |▉                               | 2.1 MB 13.3 MB/s eta 0:00:06\r\u001B[K     |█                               | 2.1 MB 13.3 MB/s eta 0:00:06\r\u001B[K     |█                               | 2.1 MB 13.3 MB/s eta 0:00:06\r\u001B[K     |█                               | 2.2 MB 13.3 MB/s eta 0:00:06\r\u001B[K     |█                               | 2.2 MB 13.3 MB/s eta 0:00:06\r\u001B[K     |█                               | 2.2 MB 13.3 MB/s eta 0:00:06\r\u001B[K     |█                               | 2.2 MB 13.3 MB/s eta 0:00:06\r\u001B[K     |█                               | 2.2 MB 13.3 MB/s eta 0:00:06\r\u001B[K     |█                               | 2.2 MB 13.3 MB/s eta 0:00:06\r\u001B[K     |█                               | 2.2 MB 13.3 MB/s eta 0:00:06\r\u001B[K     |█                               | 2.2 MB 13.3 MB/s eta 0:00:06\r\u001B[K     |█                               | 2.2 MB 13.3 MB/s eta 0:00:06\r\u001B[K     |█                               | 2.2 MB 13.3 MB/s eta 0:00:06\r\u001B[K     |█                               | 2.3 MB 13.3 MB/s eta 0:00:06\r\u001B[K     |█                               | 2.3 MB 13.3 MB/s eta 0:00:06\r\u001B[K     |█                               | 2.3 MB 13.3 MB/s eta 0:00:06\r\u001B[K     |█                               | 2.3 MB 13.3 MB/s eta 0:00:06\r\u001B[K     |█                               | 2.3 MB 13.3 MB/s eta 0:00:06\r\u001B[K     |█                               | 2.3 MB 13.3 MB/s eta 0:00:06\r\u001B[K     |█                               | 2.3 MB 13.3 MB/s eta 0:00:06\r\u001B[K     |█                               | 2.3 MB 13.3 MB/s eta 0:00:06\r\u001B[K     |█                               | 2.3 MB 13.3 MB/s eta 0:00:06\r\u001B[K     |█                               | 2.3 MB 13.3 MB/s eta 0:00:06\r\u001B[K     |█                               | 2.4 MB 13.3 MB/s eta 0:00:06\r\u001B[K     |█                               | 2.4 MB 13.3 MB/s eta 0:00:06\r\u001B[K     |█                               | 2.4 MB 13.3 MB/s eta 0:00:06\r\u001B[K     |█                               | 2.4 MB 13.3 MB/s eta 0:00:06\r\u001B[K     |█                               | 2.4 MB 13.3 MB/s eta 0:00:06\r\u001B[K     |█                               | 2.4 MB 13.3 MB/s eta 0:00:06\r\u001B[K     |█                               | 2.4 MB 13.3 MB/s eta 0:00:06\r\u001B[K     |█                               | 2.4 MB 13.3 MB/s eta 0:00:06\r\u001B[K     |█                               | 2.4 MB 13.3 MB/s eta 0:00:06\r\u001B[K     |█                               | 2.4 MB 13.3 MB/s eta 0:00:06\r\u001B[K     |█                               | 2.5 MB 13.3 MB/s eta 0:00:06\r\u001B[K     |█                               | 2.5 MB 13.3 MB/s eta 0:00:06\r\u001B[K     |█                               | 2.5 MB 13.3 MB/s eta 0:00:06\r\u001B[K     |█                               | 2.5 MB 13.3 MB/s eta 0:00:06\r\u001B[K     |█                               | 2.5 MB 13.3 MB/s eta 0:00:06\r\u001B[K     |█                               | 2.5 MB 13.3 MB/s eta 0:00:06\r\u001B[K     |█                               | 2.5 MB 13.3 MB/s eta 0:00:06\r\u001B[K     |█                               | 2.5 MB 13.3 MB/s eta 0:00:06\r\u001B[K     |█                               | 2.5 MB 13.3 MB/s eta 0:00:06\r\u001B[K     |█                               | 2.5 MB 13.3 MB/s eta 0:00:06\r\u001B[K     |█                               | 2.6 MB 13.3 MB/s eta 0:00:06\r\u001B[K     |█                               | 2.6 MB 13.3 MB/s eta 0:00:06\r\u001B[K     |█                               | 2.6 MB 13.3 MB/s eta 0:00:06\r\u001B[K     |█                               | 2.6 MB 13.3 MB/s eta 0:00:06\r\u001B[K     |█                               | 2.6 MB 13.3 MB/s eta 0:00:06\r\u001B[K     |█                               | 2.6 MB 13.3 MB/s eta 0:00:06\r\u001B[K     |█                               | 2.6 MB 13.3 MB/s eta 0:00:06\r\u001B[K     |█                               | 2.6 MB 13.3 MB/s eta 0:00:06\r\u001B[K     |█                               | 2.6 MB 13.3 MB/s eta 0:00:06\r\u001B[K     |█                               | 2.7 MB 13.3 MB/s eta 0:00:06\r\u001B[K     |█▏                              | 2.7 MB 13.3 MB/s eta 0:00:06\r\u001B[K     |█▏                              | 2.7 MB 13.3 MB/s eta 0:00:06\r\u001B[K     |█▏                              | 2.7 MB 13.3 MB/s eta 0:00:06\r\u001B[K     |█▏                              | 2.7 MB 13.3 MB/s eta 0:00:06\r\u001B[K     |█▏                              | 2.7 MB 13.3 MB/s eta 0:00:06\r\u001B[K     |█▏                              | 2.7 MB 13.3 MB/s eta 0:00:06\r\u001B[K     |█▏                              | 2.7 MB 13.3 MB/s eta 0:00:06\r\u001B[K     |█▏                              | 2.7 MB 13.3 MB/s eta 0:00:06\r\u001B[K     |█▏                              | 2.7 MB 13.3 MB/s eta 0:00:06\r\u001B[K     |█▏                              | 2.8 MB 13.3 MB/s eta 0:00:06\r\u001B[K     |█▏                              | 2.8 MB 13.3 MB/s eta 0:00:06\r\u001B[K     |█▏                              | 2.8 MB 13.3 MB/s eta 0:00:06\r\u001B[K     |█▏                              | 2.8 MB 13.3 MB/s eta 0:00:06\r\u001B[K     |█▏                              | 2.8 MB 13.3 MB/s eta 0:00:06\r\u001B[K     |█▏                              | 2.8 MB 13.3 MB/s eta 0:00:06\r\u001B[K     |█▏                              | 2.8 MB 13.3 MB/s eta 0:00:06\r\u001B[K     |█▏                              | 2.8 MB 13.3 MB/s eta 0:00:06\r\u001B[K     |█▏                              | 2.8 MB 13.3 MB/s eta 0:00:06\r\u001B[K     |█▏                              | 2.8 MB 13.3 MB/s eta 0:00:06\r\u001B[K     |█▏                              | 2.9 MB 13.3 MB/s eta 0:00:06\r\u001B[K     |█▏                              | 2.9 MB 13.3 MB/s eta 0:00:06\r\u001B[K     |█▏                              | 2.9 MB 13.3 MB/s eta 0:00:06\r\u001B[K     |█▏                              | 2.9 MB 13.3 MB/s eta 0:00:06\r\u001B[K     |█▏                              | 2.9 MB 13.3 MB/s eta 0:00:06\r\u001B[K     |█▏                              | 2.9 MB 13.3 MB/s eta 0:00:06\r\u001B[K     |█▏                              | 2.9 MB 13.3 MB/s eta 0:00:06\r\u001B[K     |█▎                              | 2.9 MB 13.3 MB/s eta 0:00:06\r\u001B[K     |█▎                              | 2.9 MB 13.3 MB/s eta 0:00:06\r\u001B[K     |█▎                              | 2.9 MB 13.3 MB/s eta 0:00:06\r\u001B[K     |█▎                              | 3.0 MB 13.3 MB/s eta 0:00:06\r\u001B[K     |█▎                              | 3.0 MB 13.3 MB/s eta 0:00:06\r\u001B[K     |█▎                              | 3.0 MB 13.3 MB/s eta 0:00:06\r\u001B[K     |█▎                              | 3.0 MB 13.3 MB/s eta 0:00:06\r\u001B[K     |█▎                              | 3.0 MB 13.3 MB/s eta 0:00:06\r\u001B[K     |█▎                              | 3.0 MB 13.3 MB/s eta 0:00:06\r\u001B[K     |█▎                              | 3.0 MB 13.3 MB/s eta 0:00:06\r\u001B[K     |█▎                              | 3.0 MB 13.3 MB/s eta 0:00:06\r\u001B[K     |█▎                              | 3.0 MB 13.3 MB/s eta 0:00:06\r\u001B[K     |█▎                              | 3.1 MB 13.3 MB/s eta 0:00:06\r\u001B[K     |█▎                              | 3.1 MB 13.3 MB/s eta 0:00:06\r\u001B[K     |█▎                              | 3.1 MB 13.3 MB/s eta 0:00:06\r\u001B[K     |█▎                              | 3.1 MB 13.3 MB/s eta 0:00:06\r\u001B[K     |█▎                              | 3.1 MB 13.3 MB/s eta 0:00:06\r\u001B[K     |█▎                              | 3.1 MB 13.3 MB/s eta 0:00:06\r\u001B[K     |█▎                              | 3.1 MB 13.3 MB/s eta 0:00:06\r\u001B[K     |█▎                              | 3.1 MB 13.3 MB/s eta 0:00:06\r\u001B[K     |█▎                              | 3.1 MB 13.3 MB/s eta 0:00:06\r\u001B[K     |█▎                              | 3.1 MB 13.3 MB/s eta 0:00:06\r\u001B[K     |█▎                              | 3.2 MB 13.3 MB/s eta 0:00:06\r\u001B[K     |█▎                              | 3.2 MB 13.3 MB/s eta 0:00:06\r\u001B[K     |█▎                              | 3.2 MB 13.3 MB/s eta 0:00:06\r\u001B[K     |█▎                              | 3.2 MB 13.3 MB/s eta 0:00:06\r\u001B[K     |█▍                              | 3.2 MB 13.3 MB/s eta 0:00:06\r\u001B[K     |█▍                              | 3.2 MB 13.3 MB/s eta 0:00:06\r\u001B[K     |█▍                              | 3.2 MB 13.3 MB/s eta 0:00:06\r\u001B[K     |█▍                              | 3.2 MB 13.3 MB/s eta 0:00:06\r\u001B[K     |█▍                              | 3.2 MB 13.3 MB/s eta 0:00:06\r\u001B[K     |█▍                              | 3.2 MB 13.3 MB/s eta 0:00:06\r\u001B[K     |█▍                              | 3.3 MB 13.3 MB/s eta 0:00:06\r\u001B[K     |█▍                              | 3.3 MB 13.3 MB/s eta 0:00:06\r\u001B[K     |█▍                              | 3.3 MB 13.3 MB/s eta 0:00:06\r\u001B[K     |█▍                              | 3.3 MB 13.3 MB/s eta 0:00:06\r\u001B[K     |█▍                              | 3.3 MB 13.3 MB/s eta 0:00:06\r\u001B[K     |█▍                              | 3.3 MB 13.3 MB/s eta 0:00:06\r\u001B[K     |█▍                              | 3.3 MB 13.3 MB/s eta 0:00:06\r\u001B[K     |█▍                              | 3.3 MB 13.3 MB/s eta 0:00:06\r\u001B[K     |█▍                              | 3.3 MB 13.3 MB/s eta 0:00:06\r\u001B[K     |█▍                              | 3.3 MB 13.3 MB/s eta 0:00:06\r\u001B[K     |█▍                              | 3.4 MB 13.3 MB/s eta 0:00:06\r\u001B[K     |█▍                              | 3.4 MB 13.3 MB/s eta 0:00:06\r\u001B[K     |█▍                              | 3.4 MB 13.3 MB/s eta 0:00:06\r\u001B[K     |█▍                              | 3.4 MB 13.3 MB/s eta 0:00:06\r\u001B[K     |█▍                              | 3.4 MB 13.3 MB/s eta 0:00:06\r\u001B[K     |█▍                              | 3.4 MB 13.3 MB/s eta 0:00:06\r\u001B[K     |█▍                              | 3.4 MB 13.3 MB/s eta 0:00:06\r\u001B[K     |█▍                              | 3.4 MB 13.3 MB/s eta 0:00:06\r\u001B[K     |█▍                              | 3.4 MB 13.3 MB/s eta 0:00:06\r\u001B[K     |█▍                              | 3.5 MB 13.3 MB/s eta 0:00:06\r\u001B[K     |█▌                              | 3.5 MB 13.3 MB/s eta 0:00:06\r\u001B[K     |█▌                              | 3.5 MB 13.3 MB/s eta 0:00:06\r\u001B[K     |█▌                              | 3.5 MB 13.3 MB/s eta 0:00:06\r\u001B[K     |█▌                              | 3.5 MB 13.3 MB/s eta 0:00:06\r\u001B[K     |█▌                              | 3.5 MB 13.3 MB/s eta 0:00:06\r\u001B[K     |█▌                              | 3.5 MB 13.3 MB/s eta 0:00:06\r\u001B[K     |█▌                              | 3.5 MB 13.3 MB/s eta 0:00:06\r\u001B[K     |█▌                              | 3.5 MB 13.3 MB/s eta 0:00:06\r\u001B[K     |█▌                              | 3.5 MB 13.3 MB/s eta 0:00:\n\n*** WARNING: max output size exceeded, skipping output. ***\n\n  |██████████████████████████████▊ | 73.4 MB 45.2 MB/s eta 0:00:01\r\u001B[K     |██████████████████████████████▊ | 73.4 MB 45.2 MB/s eta 0:00:01\r\u001B[K     |██████████████████████████████▊ | 73.5 MB 45.2 MB/s eta 0:00:01\r\u001B[K     |██████████████████████████████▊ | 73.5 MB 45.2 MB/s eta 0:00:01\r\u001B[K     |██████████████████████████████▊ | 73.5 MB 45.2 MB/s eta 0:00:01\r\u001B[K     |██████████████████████████████▊ | 73.5 MB 45.2 MB/s eta 0:00:01\r\u001B[K     |██████████████████████████████▊ | 73.5 MB 45.2 MB/s eta 0:00:01\r\u001B[K     |██████████████████████████████▊ | 73.5 MB 45.2 MB/s eta 0:00:01\r\u001B[K     |██████████████████████████████▊ | 73.5 MB 45.2 MB/s eta 0:00:01\r\u001B[K     |██████████████████████████████▊ | 73.5 MB 45.2 MB/s eta 0:00:01\r\u001B[K     |██████████████████████████████▊ | 73.5 MB 45.2 MB/s eta 0:00:01\r\u001B[K     |██████████████████████████████▊ | 73.5 MB 45.2 MB/s eta 0:00:01\r\u001B[K     |██████████████████████████████▊ | 73.6 MB 45.2 MB/s eta 0:00:01\r\u001B[K     |██████████████████████████████▊ | 73.6 MB 45.2 MB/s eta 0:00:01\r\u001B[K     |██████████████████████████████▊ | 73.6 MB 45.2 MB/s eta 0:00:01\r\u001B[K     |██████████████████████████████▊ | 73.6 MB 45.2 MB/s eta 0:00:01\r\u001B[K     |██████████████████████████████▊ | 73.6 MB 45.2 MB/s eta 0:00:01\r\u001B[K     |██████████████████████████████▊ | 73.6 MB 45.2 MB/s eta 0:00:01\r\u001B[K     |██████████████████████████████▊ | 73.6 MB 45.2 MB/s eta 0:00:01\r\u001B[K     |██████████████████████████████▊ | 73.6 MB 45.2 MB/s eta 0:00:01\r\u001B[K     |██████████████████████████████▊ | 73.6 MB 45.2 MB/s eta 0:00:01\r\u001B[K     |██████████████████████████████▊ | 73.6 MB 45.2 MB/s eta 0:00:01\r\u001B[K     |██████████████████████████████▊ | 73.7 MB 45.2 MB/s eta 0:00:01\r\u001B[K     |██████████████████████████████▉ | 73.7 MB 45.2 MB/s eta 0:00:01\r\u001B[K     |██████████████████████████████▉ | 73.7 MB 45.2 MB/s eta 0:00:01\r\u001B[K     |██████████████████████████████▉ | 73.7 MB 45.2 MB/s eta 0:00:01\r\u001B[K     |██████████████████████████████▉ | 73.7 MB 45.2 MB/s eta 0:00:01\r\u001B[K     |██████████████████████████████▉ | 73.7 MB 45.2 MB/s eta 0:00:01\r\u001B[K     |██████████████████████████████▉ | 73.7 MB 45.2 MB/s eta 0:00:01\r\u001B[K     |██████████████████████████████▉ | 73.7 MB 45.2 MB/s eta 0:00:01\r\u001B[K     |██████████████████████████████▉ | 73.7 MB 45.2 MB/s eta 0:00:01\r\u001B[K     |██████████████████████████████▉ | 73.7 MB 45.2 MB/s eta 0:00:01\r\u001B[K     |██████████████████████████████▉ | 73.8 MB 45.2 MB/s eta 0:00:01\r\u001B[K     |██████████████████████████████▉ | 73.8 MB 45.2 MB/s eta 0:00:01\r\u001B[K     |██████████████████████████████▉ | 73.8 MB 45.2 MB/s eta 0:00:01\r\u001B[K     |██████████████████████████████▉ | 73.8 MB 45.2 MB/s eta 0:00:01\r\u001B[K     |██████████████████████████████▉ | 73.8 MB 45.2 MB/s eta 0:00:01\r\u001B[K     |██████████████████████████████▉ | 73.8 MB 45.2 MB/s eta 0:00:01\r\u001B[K     |██████████████████████████████▉ | 73.8 MB 45.2 MB/s eta 0:00:01\r\u001B[K     |██████████████████████████████▉ | 73.8 MB 45.2 MB/s eta 0:00:01\r\u001B[K     |██████████████████████████████▉ | 73.8 MB 45.2 MB/s eta 0:00:01\r\u001B[K     |██████████████████████████████▉ | 73.9 MB 45.2 MB/s eta 0:00:01\r\u001B[K     |██████████████████████████████▉ | 73.9 MB 45.2 MB/s eta 0:00:01\r\u001B[K     |██████████████████████████████▉ | 73.9 MB 45.2 MB/s eta 0:00:01\r\u001B[K     |██████████████████████████████▉ | 73.9 MB 45.2 MB/s eta 0:00:01\r\u001B[K     |██████████████████████████████▉ | 73.9 MB 45.2 MB/s eta 0:00:01\r\u001B[K     |██████████████████████████████▉ | 73.9 MB 45.2 MB/s eta 0:00:01\r\u001B[K     |██████████████████████████████▉ | 73.9 MB 45.2 MB/s eta 0:00:01\r\u001B[K     |███████████████████████████████ | 73.9 MB 45.2 MB/s eta 0:00:01\r\u001B[K     |███████████████████████████████ | 73.9 MB 45.2 MB/s eta 0:00:01\r\u001B[K     |███████████████████████████████ | 73.9 MB 45.2 MB/s eta 0:00:01\r\u001B[K     |███████████████████████████████ | 74.0 MB 45.2 MB/s eta 0:00:01\r\u001B[K     |███████████████████████████████ | 74.0 MB 45.2 MB/s eta 0:00:01\r\u001B[K     |███████████████████████████████ | 74.0 MB 45.2 MB/s eta 0:00:01\r\u001B[K     |███████████████████████████████ | 74.0 MB 45.2 MB/s eta 0:00:01\r\u001B[K     |███████████████████████████████ | 74.0 MB 45.2 MB/s eta 0:00:01\r\u001B[K     |███████████████████████████████ | 74.0 MB 45.2 MB/s eta 0:00:01\r\u001B[K     |███████████████████████████████ | 74.0 MB 45.2 MB/s eta 0:00:01\r\u001B[K     |███████████████████████████████ | 74.0 MB 45.2 MB/s eta 0:00:01\r\u001B[K     |███████████████████████████████ | 74.0 MB 45.2 MB/s eta 0:00:01\r\u001B[K     |███████████████████████████████ | 74.0 MB 45.2 MB/s eta 0:00:01\r\u001B[K     |███████████████████████████████ | 74.1 MB 45.2 MB/s eta 0:00:01\r\u001B[K     |███████████████████████████████ | 74.1 MB 45.2 MB/s eta 0:00:01\r\u001B[K     |███████████████████████████████ | 74.1 MB 45.2 MB/s eta 0:00:01\r\u001B[K     |███████████████████████████████ | 74.1 MB 45.2 MB/s eta 0:00:01\r\u001B[K     |███████████████████████████████ | 74.1 MB 45.2 MB/s eta 0:00:01\r\u001B[K     |███████████████████████████████ | 74.1 MB 45.2 MB/s eta 0:00:01\r\u001B[K     |███████████████████████████████ | 74.1 MB 45.2 MB/s eta 0:00:01\r\u001B[K     |███████████████████████████████ | 74.1 MB 45.2 MB/s eta 0:00:01\r\u001B[K     |███████████████████████████████ | 74.1 MB 45.2 MB/s eta 0:00:01\r\u001B[K     |███████████████████████████████ | 74.1 MB 45.2 MB/s eta 0:00:01\r\u001B[K     |███████████████████████████████ | 74.2 MB 45.2 MB/s eta 0:00:01\r\u001B[K     |███████████████████████████████ | 74.2 MB 45.2 MB/s eta 0:00:01\r\u001B[K     |███████████████████████████████ | 74.2 MB 45.2 MB/s eta 0:00:01\r\u001B[K     |███████████████████████████████ | 74.2 MB 45.2 MB/s eta 0:00:01\r\u001B[K     |███████████████████████████████ | 74.2 MB 45.2 MB/s eta 0:00:01\r\u001B[K     |███████████████████████████████ | 74.2 MB 45.2 MB/s eta 0:00:01\r\u001B[K     |███████████████████████████████ | 74.2 MB 45.2 MB/s eta 0:00:01\r\u001B[K     |███████████████████████████████ | 74.2 MB 45.2 MB/s eta 0:00:01\r\u001B[K     |███████████████████████████████ | 74.2 MB 45.2 MB/s eta 0:00:01\r\u001B[K     |███████████████████████████████ | 74.3 MB 45.2 MB/s eta 0:00:01\r\u001B[K     |███████████████████████████████ | 74.3 MB 45.2 MB/s eta 0:00:01\r\u001B[K     |███████████████████████████████ | 74.3 MB 45.2 MB/s eta 0:00:01\r\u001B[K     |███████████████████████████████ | 74.3 MB 45.2 MB/s eta 0:00:01\r\u001B[K     |███████████████████████████████ | 74.3 MB 45.2 MB/s eta 0:00:01\r\u001B[K     |███████████████████████████████ | 74.3 MB 45.2 MB/s eta 0:00:01\r\u001B[K     |███████████████████████████████ | 74.3 MB 45.2 MB/s eta 0:00:01\r\u001B[K     |███████████████████████████████ | 74.3 MB 45.2 MB/s eta 0:00:01\r\u001B[K     |███████████████████████████████ | 74.3 MB 45.2 MB/s eta 0:00:01\r\u001B[K     |███████████████████████████████ | 74.3 MB 45.2 MB/s eta 0:00:01\r\u001B[K     |███████████████████████████████ | 74.4 MB 45.2 MB/s eta 0:00:01\r\u001B[K     |███████████████████████████████ | 74.4 MB 45.2 MB/s eta 0:00:01\r\u001B[K     |███████████████████████████████ | 74.4 MB 45.2 MB/s eta 0:00:01\r\u001B[K     |███████████████████████████████ | 74.4 MB 45.2 MB/s eta 0:00:01\r\u001B[K     |███████████████████████████████ | 74.4 MB 45.2 MB/s eta 0:00:01\r\u001B[K     |███████████████████████████████ | 74.4 MB 45.2 MB/s eta 0:00:01\r\u001B[K     |███████████████████████████████ | 74.4 MB 45.2 MB/s eta 0:00:01\r\u001B[K     |███████████████████████████████ | 74.4 MB 45.2 MB/s eta 0:00:01\r\u001B[K     |███████████████████████████████ | 74.4 MB 45.2 MB/s eta 0:00:01\r\u001B[K     |███████████████████████████████ | 74.4 MB 45.2 MB/s eta 0:00:01\r\u001B[K     |███████████████████████████████▏| 74.5 MB 45.2 MB/s eta 0:00:01\r\u001B[K     |███████████████████████████████▏| 74.5 MB 45.2 MB/s eta 0:00:01\r\u001B[K     |███████████████████████████████▏| 74.5 MB 45.2 MB/s eta 0:00:01\r\u001B[K     |███████████████████████████████▏| 74.5 MB 45.2 MB/s eta 0:00:01\r\u001B[K     |███████████████████████████████▏| 74.5 MB 45.2 MB/s eta 0:00:01\r\u001B[K     |███████████████████████████████▏| 74.5 MB 45.2 MB/s eta 0:00:01\r\u001B[K     |███████████████████████████████▏| 74.5 MB 45.2 MB/s eta 0:00:01\r\u001B[K     |███████████████████████████████▏| 74.5 MB 45.2 MB/s eta 0:00:01\r\u001B[K     |███████████████████████████████▏| 74.5 MB 45.2 MB/s eta 0:00:01\r\u001B[K     |███████████████████████████████▏| 74.5 MB 45.2 MB/s eta 0:00:01\r\u001B[K     |███████████████████████████████▏| 74.6 MB 45.2 MB/s eta 0:00:01\r\u001B[K     |███████████████████████████████▏| 74.6 MB 45.2 MB/s eta 0:00:01\r\u001B[K     |███████████████████████████████▏| 74.6 MB 45.2 MB/s eta 0:00:01\r\u001B[K     |███████████████████████████████▏| 74.6 MB 45.2 MB/s eta 0:00:01\r\u001B[K     |███████████████████████████████▏| 74.6 MB 45.2 MB/s eta 0:00:01\r\u001B[K     |███████████████████████████████▏| 74.6 MB 45.2 MB/s eta 0:00:01\r\u001B[K     |███████████████████████████████▏| 74.6 MB 45.2 MB/s eta 0:00:01\r\u001B[K     |███████████████████████████████▏| 74.6 MB 45.2 MB/s eta 0:00:01\r\u001B[K     |███████████████████████████████▏| 74.6 MB 45.2 MB/s eta 0:00:01\r\u001B[K     |███████████████████████████████▏| 74.6 MB 45.2 MB/s eta 0:00:01\r\u001B[K     |███████████████████████████████▏| 74.7 MB 45.2 MB/s eta 0:00:01\r\u001B[K     |███████████████████████████████▏| 74.7 MB 45.2 MB/s eta 0:00:01\r\u001B[K     |███████████████████████████████▏| 74.7 MB 45.2 MB/s eta 0:00:01\r\u001B[K     |███████████████████████████████▏| 74.7 MB 45.2 MB/s eta 0:00:01\r\u001B[K     |███████████████████████████████▏| 74.7 MB 45.2 MB/s eta 0:00:01\r\u001B[K     |███████████████████████████████▏| 74.7 MB 45.2 MB/s eta 0:00:01\r\u001B[K     |███████████████████████████████▎| 74.7 MB 45.2 MB/s eta 0:00:01\r\u001B[K     |███████████████████████████████▎| 74.7 MB 45.2 MB/s eta 0:00:01\r\u001B[K     |███████████████████████████████▎| 74.7 MB 45.2 MB/s eta 0:00:01\r\u001B[K     |███████████████████████████████▎| 74.8 MB 45.2 MB/s eta 0:00:01\r\u001B[K     |███████████████████████████████▎| 74.8 MB 45.2 MB/s eta 0:00:01\r\u001B[K     |███████████████████████████████▎| 74.8 MB 45.2 MB/s eta 0:00:01\r\u001B[K     |███████████████████████████████▎| 74.8 MB 45.2 MB/s eta 0:00:01\r\u001B[K     |███████████████████████████████▎| 74.8 MB 45.2 MB/s eta 0:00:01\r\u001B[K     |███████████████████████████████▎| 74.8 MB 45.2 MB/s eta 0:00:01\r\u001B[K     |███████████████████████████████▎| 74.8 MB 45.2 MB/s eta 0:00:01\r\u001B[K     |███████████████████████████████▎| 74.8 MB 45.2 MB/s eta 0:00:01\r\u001B[K     |███████████████████████████████▎| 74.8 MB 45.2 MB/s eta 0:00:01\r\u001B[K     |███████████████████████████████▎| 74.8 MB 45.2 MB/s eta 0:00:01\r\u001B[K     |███████████████████████████████▎| 74.9 MB 45.2 MB/s eta 0:00:01\r\u001B[K     |███████████████████████████████▎| 74.9 MB 45.2 MB/s eta 0:00:01\r\u001B[K     |███████████████████████████████▎| 74.9 MB 45.2 MB/s eta 0:00:01\r\u001B[K     |███████████████████████████████▎| 74.9 MB 45.2 MB/s eta 0:00:01\r\u001B[K     |███████████████████████████████▎| 74.9 MB 45.2 MB/s eta 0:00:01\r\u001B[K     |███████████████████████████████▎| 74.9 MB 45.2 MB/s eta 0:00:01\r\u001B[K     |███████████████████████████████▎| 74.9 MB 45.2 MB/s eta 0:00:01\r\u001B[K     |███████████████████████████████▎| 74.9 MB 45.2 MB/s eta 0:00:01\r\u001B[K     |███████████████████████████████▎| 74.9 MB 45.2 MB/s eta 0:00:01\r\u001B[K     |███████████████████████████████▎| 74.9 MB 45.2 MB/s eta 0:00:01\r\u001B[K     |███████████████████████████████▎| 75.0 MB 45.2 MB/s eta 0:00:01\r\u001B[K     |███████████████████████████████▎| 75.0 MB 45.2 MB/s eta 0:00:01\r\u001B[K     |███████████████████████████████▎| 75.0 MB 45.2 MB/s eta 0:00:01\r\u001B[K     |███████████████████████████████▍| 75.0 MB 45.2 MB/s eta 0:00:01\r\u001B[K     |███████████████████████████████▍| 75.0 MB 45.2 MB/s eta 0:00:01\r\u001B[K     |███████████████████████████████▍| 75.0 MB 45.2 MB/s eta 0:00:01\r\u001B[K     |███████████████████████████████▍| 75.0 MB 45.2 MB/s eta 0:00:01\r\u001B[K     |███████████████████████████████▍| 75.0 MB 45.2 MB/s eta 0:00:01\r\u001B[K     |███████████████████████████████▍| 75.0 MB 45.2 MB/s eta 0:00:01\r\u001B[K     |███████████████████████████████▍| 75.0 MB 45.2 MB/s eta 0:00:01\r\u001B[K     |███████████████████████████████▍| 75.1 MB 45.2 MB/s eta 0:00:01\r\u001B[K     |███████████████████████████████▍| 75.1 MB 45.2 MB/s eta 0:00:01\r\u001B[K     |███████████████████████████████▍| 75.1 MB 45.2 MB/s eta 0:00:01\r\u001B[K     |███████████████████████████████▍| 75.1 MB 45.2 MB/s eta 0:00:01\r\u001B[K     |███████████████████████████████▍| 75.1 MB 45.2 MB/s eta 0:00:01\r\u001B[K     |███████████████████████████████▍| 75.1 MB 45.2 MB/s eta 0:00:01\r\u001B[K     |███████████████████████████████▍| 75.1 MB 45.2 MB/s eta 0:00:01\r\u001B[K     |███████████████████████████████▍| 75.1 MB 45.2 MB/s eta 0:00:01\r\u001B[K     |███████████████████████████████▍| 75.1 MB 45.2 MB/s eta 0:00:01\r\u001B[K     |███████████████████████████████▍| 75.2 MB 45.2 MB/s eta 0:00:01\r\u001B[K     |███████████████████████████████▍| 75.2 MB 45.2 MB/s eta 0:00:01\r\u001B[K     |███████████████████████████████▍| 75.2 MB 45.2 MB/s eta 0:00:01\r\u001B[K     |███████████████████████████████▍| 75.2 MB 45.2 MB/s eta 0:00:01\r\u001B[K     |███████████████████████████████▍| 75.2 MB 45.2 MB/s eta 0:00:01\r\u001B[K     |███████████████████████████████▍| 75.2 MB 45.2 MB/s eta 0:00:01\r\u001B[K     |███████████████████████████████▍| 75.2 MB 45.2 MB/s eta 0:00:01\r\u001B[K     |███████████████████████████████▍| 75.2 MB 45.2 MB/s eta 0:00:01\r\u001B[K     |███████████████████████████████▍| 75.2 MB 45.2 MB/s eta 0:00:01\r\u001B[K     |███████████████████████████████▍| 75.2 MB 45.2 MB/s eta 0:00:01\r\u001B[K     |███████████████████████████████▌| 75.3 MB 45.2 MB/s eta 0:00:01\r\u001B[K     |███████████████████████████████▌| 75.3 MB 45.2 MB/s eta 0:00:01\r\u001B[K     |███████████████████████████████▌| 75.3 MB 45.2 MB/s eta 0:00:01\r\u001B[K     |███████████████████████████████▌| 75.3 MB 45.2 MB/s eta 0:00:01\r\u001B[K     |███████████████████████████████▌| 75.3 MB 45.2 MB/s eta 0:00:01\r\u001B[K     |███████████████████████████████▌| 75.3 MB 45.2 MB/s eta 0:00:01\r\u001B[K     |███████████████████████████████▌| 75.3 MB 45.2 MB/s eta 0:00:01\r\u001B[K     |███████████████████████████████▌| 75.3 MB 45.2 MB/s eta 0:00:01\r\u001B[K     |███████████████████████████████▌| 75.3 MB 45.2 MB/s eta 0:00:01\r\u001B[K     |███████████████████████████████▌| 75.3 MB 45.2 MB/s eta 0:00:01\r\u001B[K     |███████████████████████████████▌| 75.4 MB 45.2 MB/s eta 0:00:01\r\u001B[K     |███████████████████████████████▌| 75.4 MB 45.2 MB/s eta 0:00:01\r\u001B[K     |███████████████████████████████▌| 75.4 MB 45.2 MB/s eta 0:00:01\r\u001B[K     |███████████████████████████████▌| 75.4 MB 45.2 MB/s eta 0:00:01\r\u001B[K     |███████████████████████████████▌| 75.4 MB 45.2 MB/s eta 0:00:01\r\u001B[K     |███████████████████████████████▌| 75.4 MB 45.2 MB/s eta 0:00:01\r\u001B[K     |███████████████████████████████▌| 75.4 MB 45.2 MB/s eta 0:00:01\r\u001B[K     |███████████████████████████████▌| 75.4 MB 45.2 MB/s eta 0:00:01\r\u001B[K     |███████████████████████████████▌| 75.4 MB 45.2 MB/s eta 0:00:01\r\u001B[K     |███████████████████████████████▌| 75.4 MB 45.2 MB/s eta 0:00:01\r\u001B[K     |███████████████████████████████▌| 75.5 MB 45.2 MB/s eta 0:00:01\r\u001B[K     |███████████████████████████████▌| 75.5 MB 45.2 MB/s eta 0:00:01\r\u001B[K     |███████████████████████████████▌| 75.5 MB 45.2 MB/s eta 0:00:01\r\u001B[K     |███████████████████████████████▌| 75.5 MB 45.2 MB/s eta 0:00:01\r\u001B[K     |███████████████████████████████▌| 75.5 MB 45.2 MB/s eta 0:00:01\r\u001B[K     |███████████████████████████████▌| 75.5 MB 45.2 MB/s eta 0:00:01\r\u001B[K     |███████████████████████████████▋| 75.5 MB 45.2 MB/s eta 0:00:01\r\u001B[K     |███████████████████████████████▋| 75.5 MB 45.2 MB/s eta 0:00:01\r\u001B[K     |███████████████████████████████▋| 75.5 MB 45.2 MB/s eta 0:00:01\r\u001B[K     |███████████████████████████████▋| 75.6 MB 45.2 MB/s eta 0:00:01\r\u001B[K     |███████████████████████████████▋| 75.6 MB 45.2 MB/s eta 0:00:01\r\u001B[K     |███████████████████████████████▋| 75.6 MB 45.2 MB/s eta 0:00:01\r\u001B[K     |███████████████████████████████▋| 75.6 MB 45.2 MB/s eta 0:00:01\r\u001B[K     |███████████████████████████████▋| 75.6 MB 45.2 MB/s eta 0:00:01\r\u001B[K     |███████████████████████████████▋| 75.6 MB 45.2 MB/s eta 0:00:01\r\u001B[K     |███████████████████████████████▋| 75.6 MB 45.2 MB/s eta 0:00:01\r\u001B[K     |███████████████████████████████▋| 75.6 MB 45.2 MB/s eta 0:00:01\r\u001B[K     |███████████████████████████████▋| 75.6 MB 45.2 MB/s eta 0:00:01\r\u001B[K     |███████████████████████████████▋| 75.6 MB 45.2 MB/s eta 0:00:01\r\u001B[K     |███████████████████████████████▋| 75.7 MB 45.2 MB/s eta 0:00:01\r\u001B[K     |███████████████████████████████▋| 75.7 MB 45.2 MB/s eta 0:00:01\r\u001B[K     |███████████████████████████████▋| 75.7 MB 45.2 MB/s eta 0:00:01\r\u001B[K     |███████████████████████████████▋| 75.7 MB 45.2 MB/s eta 0:00:01\r\u001B[K     |███████████████████████████████▋| 75.7 MB 45.2 MB/s eta 0:00:01\r\u001B[K     |███████████████████████████████▋| 75.7 MB 45.2 MB/s eta 0:00:01\r\u001B[K     |███████████████████████████████▋| 75.7 MB 45.2 MB/s eta 0:00:01\r\u001B[K     |███████████████████████████████▋| 75.7 MB 45.2 MB/s eta 0:00:01\r\u001B[K     |███████████████████████████████▋| 75.7 MB 45.2 MB/s eta 0:00:01\r\u001B[K     |███████████████████████████████▋| 75.7 MB 45.2 MB/s eta 0:00:01\r\u001B[K     |███████████████████████████████▋| 75.8 MB 45.2 MB/s eta 0:00:01\r\u001B[K     |███████████████████████████████▋| 75.8 MB 45.2 MB/s eta 0:00:01\r\u001B[K     |███████████████████████████████▋| 75.8 MB 45.2 MB/s eta 0:00:01\r\u001B[K     |███████████████████████████████▊| 75.8 MB 45.2 MB/s eta 0:00:01\r\u001B[K     |███████████████████████████████▊| 75.8 MB 45.2 MB/s eta 0:00:01\r\u001B[K     |███████████████████████████████▊| 75.8 MB 45.2 MB/s eta 0:00:01\r\u001B[K     |███████████████████████████████▊| 75.8 MB 45.2 MB/s eta 0:00:01\r\u001B[K     |███████████████████████████████▊| 75.8 MB 45.2 MB/s eta 0:00:01\r\u001B[K     |███████████████████████████████▊| 75.8 MB 45.2 MB/s eta 0:00:01\r\u001B[K     |███████████████████████████████▊| 75.8 MB 45.2 MB/s eta 0:00:01\r\u001B[K     |███████████████████████████████▊| 75.9 MB 45.2 MB/s eta 0:00:01\r\u001B[K     |███████████████████████████████▊| 75.9 MB 45.2 MB/s eta 0:00:01\r\u001B[K     |███████████████████████████████▊| 75.9 MB 45.2 MB/s eta 0:00:01\r\u001B[K     |███████████████████████████████▊| 75.9 MB 45.2 MB/s eta 0:00:01\r\u001B[K     |███████████████████████████████▊| 75.9 MB 45.2 MB/s eta 0:00:01\r\u001B[K     |███████████████████████████████▊| 75.9 MB 45.2 MB/s eta 0:00:01\r\u001B[K     |███████████████████████████████▊| 75.9 MB 45.2 MB/s eta 0:00:01\r\u001B[K     |███████████████████████████████▊| 75.9 MB 45.2 MB/s eta 0:00:01\r\u001B[K     |███████████████████████████████▊| 75.9 MB 45.2 MB/s eta 0:00:01\r\u001B[K     |███████████████████████████████▊| 76.0 MB 45.2 MB/s eta 0:00:01\r\u001B[K     |███████████████████████████████▊| 76.0 MB 45.2 MB/s eta 0:00:01\r\u001B[K     |███████████████████████████████▊| 76.0 MB 45.2 MB/s eta 0:00:01\r\u001B[K     |███████████████████████████████▊| 76.0 MB 45.2 MB/s eta 0:00:01\r\u001B[K     |███████████████████████████████▊| 76.0 MB 45.2 MB/s eta 0:00:01\r\u001B[K     |███████████████████████████████▊| 76.0 MB 45.2 MB/s eta 0:00:01\r\u001B[K     |███████████████████████████████▊| 76.0 MB 45.2 MB/s eta 0:00:01\r\u001B[K     |███████████████████████████████▊| 76.0 MB 45.2 MB/s eta 0:00:01\r\u001B[K     |███████████████████████████████▊| 76.0 MB 45.2 MB/s eta 0:00:01\r\u001B[K     |███████████████████████████████▊| 76.0 MB 45.2 MB/s eta 0:00:01\r\u001B[K     |███████████████████████████████▉| 76.1 MB 45.2 MB/s eta 0:00:01\r\u001B[K     |███████████████████████████████▉| 76.1 MB 45.2 MB/s eta 0:00:01\r\u001B[K     |███████████████████████████████▉| 76.1 MB 45.2 MB/s eta 0:00:01\r\u001B[K     |███████████████████████████████▉| 76.1 MB 45.2 MB/s eta 0:00:01\r\u001B[K     |███████████████████████████████▉| 76.1 MB 45.2 MB/s eta 0:00:01\r\u001B[K     |███████████████████████████████▉| 76.1 MB 45.2 MB/s eta 0:00:01\r\u001B[K     |███████████████████████████████▉| 76.1 MB 45.2 MB/s eta 0:00:01\r\u001B[K     |███████████████████████████████▉| 76.1 MB 45.2 MB/s eta 0:00:01\r\u001B[K     |███████████████████████████████▉| 76.1 MB 45.2 MB/s eta 0:00:01\r\u001B[K     |███████████████████████████████▉| 76.1 MB 45.2 MB/s eta 0:00:01\r\u001B[K     |███████████████████████████████▉| 76.2 MB 45.2 MB/s eta 0:00:01\r\u001B[K     |███████████████████████████████▉| 76.2 MB 45.2 MB/s eta 0:00:01\r\u001B[K     |███████████████████████████████▉| 76.2 MB 45.2 MB/s eta 0:00:01\r\u001B[K     |███████████████████████████████▉| 76.2 MB 45.2 MB/s eta 0:00:01\r\u001B[K     |███████████████████████████████▉| 76.2 MB 45.2 MB/s eta 0:00:01\r\u001B[K     |███████████████████████████████▉| 76.2 MB 45.2 MB/s eta 0:00:01\r\u001B[K     |███████████████████████████████▉| 76.2 MB 45.2 MB/s eta 0:00:01\r\u001B[K     |███████████████████████████████▉| 76.2 MB 45.2 MB/s eta 0:00:01\r\u001B[K     |███████████████████████████████▉| 76.2 MB 45.2 MB/s eta 0:00:01\r\u001B[K     |███████████████████████████████▉| 76.2 MB 45.2 MB/s eta 0:00:01\r\u001B[K     |███████████████████████████████▉| 76.3 MB 45.2 MB/s eta 0:00:01\r\u001B[K     |███████████████████████████████▉| 76.3 MB 45.2 MB/s eta 0:00:01\r\u001B[K     |███████████████████████████████▉| 76.3 MB 45.2 MB/s eta 0:00:01\r\u001B[K     |███████████████████████████████▉| 76.3 MB 45.2 MB/s eta 0:00:01\r\u001B[K     |███████████████████████████████▉| 76.3 MB 45.2 MB/s eta 0:00:01\r\u001B[K     |███████████████████████████████▉| 76.3 MB 45.2 MB/s eta 0:00:01\r\u001B[K     |████████████████████████████████| 76.3 MB 45.2 MB/s eta 0:00:01\r\u001B[K     |████████████████████████████████| 76.3 MB 45.2 MB/s eta 0:00:01\r\u001B[K     |████████████████████████████████| 76.3 MB 45.2 MB/s eta 0:00:01\r\u001B[K     |████████████████████████████████| 76.3 MB 45.2 MB/s eta 0:00:01\r\u001B[K     |████████████████████████████████| 76.4 MB 45.2 MB/s eta 0:00:01\r\u001B[K     |████████████████████████████████| 76.4 MB 45.2 MB/s eta 0:00:01\r\u001B[K     |████████████████████████████████| 76.4 MB 45.2 MB/s eta 0:00:01\r\u001B[K     |████████████████████████████████| 76.4 MB 45.2 MB/s eta 0:00:01\r\u001B[K     |████████████████████████████████| 76.4 MB 45.2 MB/s eta 0:00:01\r\u001B[K     |████████████████████████████████| 76.4 MB 45.2 MB/s eta 0:00:01\r\u001B[K     |████████████████████████████████| 76.4 MB 45.2 MB/s eta 0:00:01\r\u001B[K     |████████████████████████████████| 76.4 MB 45.2 MB/s eta 0:00:01\r\u001B[K     |████████████████████████████████| 76.4 MB 45.2 MB/s eta 0:00:01\r\u001B[K     |████████████████████████████████| 76.5 MB 45.2 MB/s eta 0:00:01\r\u001B[K     |████████████████████████████████| 76.5 MB 45.2 MB/s eta 0:00:01\r\u001B[K     |████████████████████████████████| 76.5 MB 45.2 MB/s eta 0:00:01\r\u001B[K     |████████████████████████████████| 76.5 MB 45.2 MB/s eta 0:00:01\r\u001B[K     |████████████████████████████████| 76.5 MB 45.2 MB/s eta 0:00:01\r\u001B[K     |████████████████████████████████| 76.5 MB 45.2 MB/s eta 0:00:01\r\u001B[K     |████████████████████████████████| 76.5 MB 45.2 MB/s eta 0:00:01\r\u001B[K     |████████████████████████████████| 76.5 MB 45.2 MB/s eta 0:00:01\r\u001B[K     |████████████████████████████████| 76.5 MB 45.2 MB/s eta 0:00:01\r\u001B[K     |████████████████████████████████| 76.5 MB 45.2 MB/s eta 0:00:01\r\u001B[K     |████████████████████████████████| 76.6 MB 45.2 MB/s eta 0:00:01\r\u001B[K     |████████████████████████████████| 76.6 MB 45.2 MB/s eta 0:00:01\r\u001B[K     |████████████████████████████████| 76.6 MB 45.2 MB/s eta 0:00:01\r\u001B[K     |████████████████████████████████| 76.6 MB 40 kB/s \r\n\u001B[?25hRequirement already satisfied: scipy in /databricks/python3/lib/python3.9/site-packages (from catboost) (1.7.1)\r\nRequirement already satisfied: pandas>=0.24.0 in /databricks/python3/lib/python3.9/site-packages (from catboost) (1.3.4)\r\nRequirement already satisfied: plotly in /databricks/python3/lib/python3.9/site-packages (from catboost) (5.9.0)\r\nRequirement already satisfied: matplotlib in /databricks/python3/lib/python3.9/site-packages (from catboost) (3.4.3)\r\nRequirement already satisfied: numpy>=1.16.0 in /databricks/python3/lib/python3.9/site-packages (from catboost) (1.20.3)\r\nCollecting graphviz\r\n  Downloading graphviz-0.20.1-py3-none-any.whl (47 kB)\r\n\u001B[?25l\r\u001B[K     |███████                         | 10 kB 31.7 MB/s eta 0:00:01\r\u001B[K     |██████████████                  | 20 kB 40.4 MB/s eta 0:00:01\r\u001B[K     |█████████████████████           | 30 kB 48.7 MB/s eta 0:00:01\r\u001B[K     |███████████████████████████▉    | 40 kB 53.3 MB/s eta 0:00:01\r\u001B[K     |████████████████████████████████| 47 kB 2.7 MB/s \r\n\u001B[?25hRequirement already satisfied: six in /databricks/python3/lib/python3.9/site-packages (from catboost) (1.16.0)\r\nRequirement already satisfied: python-dateutil>=2.7.3 in /databricks/python3/lib/python3.9/site-packages (from pandas>=0.24.0->catboost) (2.8.2)\r\nRequirement already satisfied: pytz>=2017.3 in /databricks/python3/lib/python3.9/site-packages (from pandas>=0.24.0->catboost) (2021.3)\r\nRequirement already satisfied: kiwisolver>=1.0.1 in /databricks/python3/lib/python3.9/site-packages (from matplotlib->catboost) (1.3.1)\r\nRequirement already satisfied: pyparsing>=2.2.1 in /databricks/python3/lib/python3.9/site-packages (from matplotlib->catboost) (3.0.4)\r\nRequirement already satisfied: cycler>=0.10 in /databricks/python3/lib/python3.9/site-packages (from matplotlib->catboost) (0.10.0)\r\nRequirement already satisfied: pillow>=6.2.0 in /databricks/python3/lib/python3.9/site-packages (from matplotlib->catboost) (8.4.0)\r\nRequirement already satisfied: tenacity>=6.2.0 in /databricks/python3/lib/python3.9/site-packages (from plotly->catboost) (8.0.1)\r\nInstalling collected packages: graphviz, catboost\r\nSuccessfully installed catboost-1.1.1 graphviz-0.20.1\r\n\u001B[33mWARNING: You are using pip version 21.2.4; however, version 23.1.1 is available.\r\nYou should consider upgrading via the '/local_disk0/.ephemeral_nfs/envs/pythonEnv-38988a65-edd1-42ba-91ba-b0da5880e5ed/bin/python -m pip install --upgrade pip' command.\u001B[0m\r\n"
     ]
    }
   ],
   "source": [
    "!pip install catboost"
   ]
  },
  {
   "cell_type": "code",
   "execution_count": 0,
   "metadata": {
    "application/vnd.databricks.v1+cell": {
     "cellMetadata": {
      "byteLimit": 2048000,
      "rowLimit": 10000
     },
     "inputWidgets": {},
     "nuid": "c7f60321-d6ba-46bb-9b45-b5409a5dd911",
     "showTitle": false,
     "title": ""
    }
   },
   "outputs": [],
   "source": [
    "import lightgbm as lgb\n",
    "import numpy as np\n",
    "import pandas as pd\n",
    "from sklearn import preprocessing\n",
    "from sklearn.impute import SimpleImputer\n",
    "from catboost import CatBoostClassifier, Pool"
   ]
  },
  {
   "cell_type": "markdown",
   "metadata": {
    "application/vnd.databricks.v1+cell": {
     "cellMetadata": {},
     "inputWidgets": {},
     "nuid": "bf09415f-977b-4097-8614-a4964504a431",
     "showTitle": false,
     "title": ""
    }
   },
   "source": [
    "# data"
   ]
  },
  {
   "cell_type": "code",
   "execution_count": 0,
   "metadata": {
    "application/vnd.databricks.v1+cell": {
     "cellMetadata": {
      "byteLimit": 2048000,
      "rowLimit": 10000
     },
     "inputWidgets": {},
     "nuid": "12ec42cd-db77-4378-b124-0d4e3cd73502",
     "showTitle": false,
     "title": ""
    }
   },
   "outputs": [],
   "source": [
    "df_panddas = pd.DataFrame([\n",
    "    {'model':1, 'id':1, 'feature_num':1.0, 'featuer_cat':'a', 'label':1},\n",
    "    {'model':1, 'id':2, 'feature_num':None, 'featuer_cat':'b', 'label':0},\n",
    "    {'model':1, 'id':3, 'feature_num':1.0, 'featuer_cat':'a', 'label':1},\n",
    "    {'model':2, 'id':4, 'feature_num':1.0, 'featuer_cat':None, 'label':1},\n",
    "    {'model':2, 'id':5, 'feature_num':2.0, 'featuer_cat':'b', 'label':0},\n",
    "    {'model':2, 'id':6, 'feature_num':1.0, 'featuer_cat':'a', 'label':1},\n",
    "])\n",
    "\n",
    "df = spark.createDataFrame(df_panddas)"
   ]
  },
  {
   "cell_type": "code",
   "execution_count": 0,
   "metadata": {
    "application/vnd.databricks.v1+cell": {
     "cellMetadata": {
      "byteLimit": 2048000,
      "rowLimit": 10000
     },
     "inputWidgets": {},
     "nuid": "635acc39-d7c0-414f-94b5-1b74f9153fda",
     "showTitle": false,
     "title": ""
    }
   },
   "outputs": [
    {
     "output_type": "stream",
     "name": "stdout",
     "output_type": "stream",
     "text": [
      "+-----+---+-----------+-----------+-----+\n|model| id|feature_num|featuer_cat|label|\n+-----+---+-----------+-----------+-----+\n|    1|  1|        1.0|          a|    1|\n|    1|  2|       null|          b|    0|\n|    1|  3|        1.0|          a|    1|\n|    2|  4|        1.0|       null|    1|\n|    2|  5|        2.0|          b|    0|\n|    2|  6|        1.0|          a|    1|\n+-----+---+-----------+-----------+-----+\n\n"
     ]
    }
   ],
   "source": [
    "df.show()"
   ]
  },
  {
   "cell_type": "markdown",
   "metadata": {
    "application/vnd.databricks.v1+cell": {
     "cellMetadata": {},
     "inputWidgets": {},
     "nuid": "35ff235e-0480-4779-b149-5eb35b32249a",
     "showTitle": false,
     "title": ""
    }
   },
   "source": [
    "# features"
   ]
  },
  {
   "cell_type": "code",
   "execution_count": 0,
   "metadata": {
    "application/vnd.databricks.v1+cell": {
     "cellMetadata": {
      "byteLimit": 2048000,
      "rowLimit": 10000
     },
     "inputWidgets": {},
     "nuid": "4318729c-9f58-4376-b835-47b8f61c22b4",
     "showTitle": false,
     "title": ""
    }
   },
   "outputs": [],
   "source": [
    "categorical_feature = ['featuer_cat']\n",
    "feature_name = ['feature_num', 'featuer_cat']"
   ]
  },
  {
   "cell_type": "markdown",
   "metadata": {
    "application/vnd.databricks.v1+cell": {
     "cellMetadata": {},
     "inputWidgets": {},
     "nuid": "3a81d4bc-61ee-42d7-9775-2aa0afda05da",
     "showTitle": false,
     "title": ""
    }
   },
   "source": [
    "# light gbm"
   ]
  },
  {
   "cell_type": "code",
   "execution_count": 0,
   "metadata": {
    "application/vnd.databricks.v1+cell": {
     "cellMetadata": {
      "byteLimit": 2048000,
      "rowLimit": 10000
     },
     "inputWidgets": {},
     "nuid": "5302adbd-4121-4c42-b3b8-aec33aed97d4",
     "showTitle": false,
     "title": ""
    }
   },
   "outputs": [],
   "source": [
    "def fit_model(\n",
    "    df_panddas,\n",
    "    ):\n",
    "\n",
    "    ## categorical feature encoding\n",
    "    for c in categorical_feature:\n",
    "        le = preprocessing.LabelEncoder()\n",
    "        le.fit(df_panddas[c])\n",
    "        df_panddas[c] = le.transform(df_panddas[c]) \n",
    "            \n",
    "    ## training set\n",
    "    train_data = lgb.Dataset(\n",
    "        data = df_panddas[feature_name], \n",
    "        label = df_panddas['label'],\n",
    "        categorical_feature  = categorical_feature,\n",
    "        feature_name = feature_name,\n",
    "        )\n",
    "\n",
    "    param = {'objective': 'binary'}\n",
    "\n",
    "    bst = lgb.train(\n",
    "        param, \n",
    "        train_data, \n",
    "        num_boost_round = 512,\n",
    "        )\n",
    "\n",
    "    df_panddas['prediction'] = bst.predict(df_panddas[feature_name])\n",
    "\n",
    "    return df_panddas[['model', 'id', 'prediction']]"
   ]
  },
  {
   "cell_type": "code",
   "execution_count": 0,
   "metadata": {
    "application/vnd.databricks.v1+cell": {
     "cellMetadata": {
      "byteLimit": 2048000,
      "rowLimit": 10000
     },
     "inputWidgets": {},
     "nuid": "b6c4942c-19dd-4f73-bd02-8fceb8f34be7",
     "showTitle": false,
     "title": ""
    }
   },
   "outputs": [
    {
     "output_type": "stream",
     "name": "stdout",
     "output_type": "stream",
     "text": [
      "+-----+---+------------------+\n|model| id|        prediction|\n+-----+---+------------------+\n|    1|  1|0.6666666666666666|\n|    1|  3|0.6666666666666666|\n|    1|  2|0.6666666666666666|\n|    2|  5|0.6666666666666666|\n|    2|  4|0.6666666666666666|\n|    2|  6|0.6666666666666666|\n+-----+---+------------------+\n\n"
     ]
    }
   ],
   "source": [
    "df.groupBy([\n",
    "    'model'\n",
    "]).applyInPandas(\n",
    "    fit_model,\n",
    "    schema = f\"\"\"\n",
    "    model int,\n",
    "    id int, \n",
    "    prediction double\n",
    "    \"\"\"\n",
    ").show()"
   ]
  },
  {
   "cell_type": "markdown",
   "metadata": {
    "application/vnd.databricks.v1+cell": {
     "cellMetadata": {},
     "inputWidgets": {},
     "nuid": "338d1fde-e023-4033-9cdd-9cb1e3fd4104",
     "showTitle": false,
     "title": ""
    }
   },
   "source": [
    "# catboost"
   ]
  },
  {
   "cell_type": "code",
   "execution_count": 0,
   "metadata": {
    "application/vnd.databricks.v1+cell": {
     "cellMetadata": {
      "byteLimit": 2048000,
      "rowLimit": 10000
     },
     "inputWidgets": {},
     "nuid": "ecd0886a-5a9b-4705-a285-9c7ce1afed2e",
     "showTitle": false,
     "title": ""
    }
   },
   "outputs": [],
   "source": [
    "def fit_model(\n",
    "    df_panddas,\n",
    "    ):\n",
    "\n",
    "    ## categorical feature encoding\n",
    "    for c in categorical_feature:\n",
    "        le = preprocessing.LabelEncoder()\n",
    "        le.fit(df_panddas[c])\n",
    "        df_panddas[c] = le.transform(df_panddas[c]) \n",
    "\n",
    "    ## \n",
    "    imp = SimpleImputer(\n",
    "        missing_values= np.nan, \n",
    "        strategy = 'most_frequent',\n",
    "        )\n",
    "    imp.fit(df_panddas[feature_name])\n",
    "    df_panddas[feature_name] = imp.transform(df_panddas[feature_name])\n",
    "\n",
    "    for c in categorical_feature:\n",
    "        df_panddas[c] = df_panddas[c].astype('int')\n",
    "    \n",
    "    train_data = Pool(\n",
    "        data = df_panddas[feature_name], \n",
    "        label = df_panddas['label'],\n",
    "        cat_features  = categorical_feature,\n",
    "        feature_names = feature_name,\n",
    "        )\n",
    "\n",
    "    model = CatBoostClassifier(\n",
    "        iterations=2,\n",
    "        depth=2,\n",
    "        learning_rate=1,\n",
    "        loss_function='Logloss',\n",
    "        verbose = False)\n",
    "\n",
    "    # train the model\n",
    "    model.fit(train_data)\n",
    "\n",
    "    # make the prediction using the resulting model\n",
    "    preds_proba  = model.predict_proba(df_panddas[feature_name])\n",
    "    df_panddas['prediction'] = preds_proba[:,1]\n",
    "\n",
    "    return df_panddas[['model', 'id', 'label', 'prediction']]"
   ]
  },
  {
   "cell_type": "code",
   "execution_count": 0,
   "metadata": {
    "application/vnd.databricks.v1+cell": {
     "cellMetadata": {
      "byteLimit": 2048000,
      "rowLimit": 10000
     },
     "inputWidgets": {},
     "nuid": "64fee8dd-b2c7-4734-81c5-d2326e793626",
     "showTitle": false,
     "title": ""
    }
   },
   "outputs": [
    {
     "output_type": "stream",
     "name": "stdout",
     "output_type": "stream",
     "text": [
      "+-----+---+-----+-------------------+\n|model| id|label|         prediction|\n+-----+---+-----+-------------------+\n|    1|  2|    0|0.42654888850053757|\n|    1|  1|    1|  0.629855013297618|\n|    1|  3|    1|  0.629855013297618|\n|    2|  4|    1|  0.629855013297618|\n|    2|  6|    1|  0.629855013297618|\n|    2|  5|    0|0.42654888850053757|\n+-----+---+-----+-------------------+\n\n"
     ]
    }
   ],
   "source": [
    "df.groupBy([\n",
    "    'model'\n",
    "]).applyInPandas(\n",
    "    fit_model,\n",
    "    schema = f\"\"\"\n",
    "    model int,\n",
    "    id int, \n",
    "    label int,\n",
    "    prediction double\n",
    "    \"\"\"\n",
    ").show()"
   ]
  },
  {
   "cell_type": "markdown",
   "metadata": {
    "application/vnd.databricks.v1+cell": {
     "cellMetadata": {},
     "inputWidgets": {},
     "nuid": "15252f36-9ac1-4bd7-bfec-5e88ff90ba64",
     "showTitle": false,
     "title": ""
    }
   },
   "source": [
    "# transformer"
   ]
  },
  {
   "cell_type": "code",
   "execution_count": 0,
   "metadata": {
    "application/vnd.databricks.v1+cell": {
     "cellMetadata": {
      "byteLimit": 2048000,
      "rowLimit": 10000
     },
     "inputWidgets": {},
     "nuid": "540df97e-e61e-41c6-a974-6b70235d1ed5",
     "showTitle": false,
     "title": ""
    }
   },
   "outputs": [
    {
     "output_type": "display_data",
     "data": {
      "application/vnd.jupyter.widget-view+json": {
       "model_id": "d81323212dfa46e7a8cd5e82c3c13a26",
       "version_major": 2,
       "version_minor": 0
      },
      "text/plain": [
       "Downloading tokenizer_config.json:   0%|          | 0.00/2.48k [00:00<?, ?B/s]"
      ]
     },
     "metadata": {
      "application/vnd.databricks.v1+output": {
       "addedWidgets": {},
       "arguments": {},
       "data": {
        "application/vnd.jupyter.widget-view+json": {
         "model_id": "d81323212dfa46e7a8cd5e82c3c13a26",
         "version_major": 2,
         "version_minor": 0
        },
        "text/plain": "Downloading tokenizer_config.json:   0%|          | 0.00/2.48k [00:00<?, ?B/s]"
       },
       "datasetInfos": [],
       "executionCount": null,
       "metadata": {
        "kernelSessionId": "5cbacd60-8197e49ecefe4ec110106b14"
       },
       "removedWidgets": [],
       "type": "mimeBundle"
      }
     },
     "output_type": "display_data"
    },
    {
     "output_type": "display_data",
     "data": {
      "application/vnd.jupyter.widget-view+json": {
       "model_id": "9abf3c214ce44769888afd5a1989cd67",
       "version_major": 2,
       "version_minor": 0
      },
      "text/plain": [
       "Downloading spiece.model:   0%|          | 0.00/773k [00:00<?, ?B/s]"
      ]
     },
     "metadata": {
      "application/vnd.databricks.v1+output": {
       "addedWidgets": {},
       "arguments": {},
       "data": {
        "application/vnd.jupyter.widget-view+json": {
         "model_id": "9abf3c214ce44769888afd5a1989cd67",
         "version_major": 2,
         "version_minor": 0
        },
        "text/plain": "Downloading spiece.model:   0%|          | 0.00/773k [00:00<?, ?B/s]"
       },
       "datasetInfos": [],
       "executionCount": null,
       "metadata": {
        "kernelSessionId": "5cbacd60-8197e49ecefe4ec110106b14"
       },
       "removedWidgets": [],
       "type": "mimeBundle"
      }
     },
     "output_type": "display_data"
    },
    {
     "output_type": "display_data",
     "data": {
      "application/vnd.jupyter.widget-view+json": {
       "model_id": "0572a5f695fd4a00a9b57d26f75340f9",
       "version_major": 2,
       "version_minor": 0
      },
      "text/plain": [
       "Downloading tokenizer.json:   0%|          | 0.00/2.31M [00:00<?, ?B/s]"
      ]
     },
     "metadata": {
      "application/vnd.databricks.v1+output": {
       "addedWidgets": {},
       "arguments": {},
       "data": {
        "application/vnd.jupyter.widget-view+json": {
         "model_id": "0572a5f695fd4a00a9b57d26f75340f9",
         "version_major": 2,
         "version_minor": 0
        },
        "text/plain": "Downloading tokenizer.json:   0%|          | 0.00/2.31M [00:00<?, ?B/s]"
       },
       "datasetInfos": [],
       "executionCount": null,
       "metadata": {
        "kernelSessionId": "5cbacd60-8197e49ecefe4ec110106b14"
       },
       "removedWidgets": [],
       "type": "mimeBundle"
      }
     },
     "output_type": "display_data"
    },
    {
     "output_type": "display_data",
     "data": {
      "application/vnd.jupyter.widget-view+json": {
       "model_id": "85bb00144ee145cd837f3dca68c6b220",
       "version_major": 2,
       "version_minor": 0
      },
      "text/plain": [
       "Downloading special_tokens_map.json:   0%|          | 0.00/2.15k [00:00<?, ?B/s]"
      ]
     },
     "metadata": {
      "application/vnd.databricks.v1+output": {
       "addedWidgets": {},
       "arguments": {},
       "data": {
        "application/vnd.jupyter.widget-view+json": {
         "model_id": "85bb00144ee145cd837f3dca68c6b220",
         "version_major": 2,
         "version_minor": 0
        },
        "text/plain": "Downloading special_tokens_map.json:   0%|          | 0.00/2.15k [00:00<?, ?B/s]"
       },
       "datasetInfos": [],
       "executionCount": null,
       "metadata": {
        "kernelSessionId": "5cbacd60-8197e49ecefe4ec110106b14"
       },
       "removedWidgets": [],
       "type": "mimeBundle"
      }
     },
     "output_type": "display_data"
    },
    {
     "output_type": "display_data",
     "data": {
      "application/vnd.jupyter.widget-view+json": {
       "model_id": "3a2713d1cc26400388e0545c3abd13d3",
       "version_major": 2,
       "version_minor": 0
      },
      "text/plain": [
       "Downloading config.json:   0%|          | 0.00/1.37k [00:00<?, ?B/s]"
      ]
     },
     "metadata": {
      "application/vnd.databricks.v1+output": {
       "addedWidgets": {},
       "arguments": {},
       "data": {
        "application/vnd.jupyter.widget-view+json": {
         "model_id": "3a2713d1cc26400388e0545c3abd13d3",
         "version_major": 2,
         "version_minor": 0
        },
        "text/plain": "Downloading config.json:   0%|          | 0.00/1.37k [00:00<?, ?B/s]"
       },
       "datasetInfos": [],
       "executionCount": null,
       "metadata": {
        "kernelSessionId": "5cbacd60-8197e49ecefe4ec110106b14"
       },
       "removedWidgets": [],
       "type": "mimeBundle"
      }
     },
     "output_type": "display_data"
    },
    {
     "output_type": "display_data",
     "data": {
      "application/vnd.jupyter.widget-view+json": {
       "model_id": "4005687ef203468cb1410b2681bf41b8",
       "version_major": 2,
       "version_minor": 0
      },
      "text/plain": [
       "Downloading pytorch_model.bin:   0%|          | 0.00/294M [00:00<?, ?B/s]"
      ]
     },
     "metadata": {
      "application/vnd.databricks.v1+output": {
       "addedWidgets": {},
       "arguments": {},
       "data": {
        "application/vnd.jupyter.widget-view+json": {
         "model_id": "4005687ef203468cb1410b2681bf41b8",
         "version_major": 2,
         "version_minor": 0
        },
        "text/plain": "Downloading pytorch_model.bin:   0%|          | 0.00/294M [00:00<?, ?B/s]"
       },
       "datasetInfos": [],
       "executionCount": null,
       "metadata": {
        "kernelSessionId": "5cbacd60-8197e49ecefe4ec110106b14"
       },
       "removedWidgets": [],
       "type": "mimeBundle"
      }
     },
     "output_type": "display_data"
    }
   ],
   "source": [
    "from transformers import AutoTokenizer, AutoModelForSeq2SeqLM\n",
    "\n",
    "tokenizer = AutoTokenizer.from_pretrained(\"google/flan-t5-small\")\n",
    "\n",
    "model = AutoModelForSeq2SeqLM.from_pretrained(\"google/flan-t5-small\")"
   ]
  },
  {
   "cell_type": "code",
   "execution_count": 0,
   "metadata": {
    "application/vnd.databricks.v1+cell": {
     "cellMetadata": {
      "byteLimit": 2048000,
      "rowLimit": 10000
     },
     "inputWidgets": {},
     "nuid": "11c1c1f7-cd5a-4838-96f5-d6a9fd4e9937",
     "showTitle": false,
     "title": ""
    }
   },
   "outputs": [],
   "source": [
    "df_pandas = pd.DataFrame([\n",
    "    {'model':1, 'id':1, 'text':\"My name is Jimmy. Question: What is my name?\"},\n",
    "    {'model':1, 'id':2, 'text':\"My name is Smith. Question: What is my name?\"},\n",
    "    {'model':1, 'id':3, 'text':\"My name is Yanni. Question: What is my name?\"},\n",
    "    {'model':2, 'id':4, 'text':\"My name is Dan. Question: What is my name?\"},\n",
    "    {'model':2, 'id':5, 'text':\"My name is Jose. Question: What is my name?\"},\n",
    "    {'model':2, 'id':6, 'text':\"My name is Wang. Question: What is my name?\"},])\n",
    "\n",
    "df = spark.createDataFrame(df_pandas)"
   ]
  },
  {
   "cell_type": "code",
   "execution_count": 0,
   "metadata": {
    "application/vnd.databricks.v1+cell": {
     "cellMetadata": {
      "byteLimit": 2048000,
      "rowLimit": 10000
     },
     "inputWidgets": {},
     "nuid": "ad5e0853-06b1-45b7-b425-38b61e3f7f9c",
     "showTitle": false,
     "title": ""
    }
   },
   "outputs": [],
   "source": [
    "def prompt_to_resoonse(\n",
    "\tprompt,\n",
    "\tmax_length = 128,\n",
    "\t):\n",
    "\tinputs = tokenizer(\n",
    "\t\tprompt, \n",
    "\t\treturn_tensors=\"pt\",\n",
    "\t\t)\n",
    "\tmodel_output = model.generate(\n",
    "\t\t**inputs,\n",
    "\t\toutput_scores=True,\n",
    "\t\tmax_length = max_length,\n",
    "\t\t)\n",
    "\tresponse = tokenizer.batch_decode(\n",
    "\t\tmodel_output, \n",
    "\t\tskip_special_tokens=True)[0]\n",
    "\treturn response\n",
    "    \n",
    "def prediction_model(\n",
    "    df_panddas,\n",
    "    ):\n",
    "    df_panddas['response'] = df_panddas['text'].apply(prompt_to_resoonse)\n",
    "    return df_panddas[['model', 'id', 'text', 'response']]"
   ]
  },
  {
   "cell_type": "code",
   "execution_count": 0,
   "metadata": {
    "application/vnd.databricks.v1+cell": {
     "cellMetadata": {
      "byteLimit": 2048000,
      "rowLimit": 10000
     },
     "inputWidgets": {},
     "nuid": "3ea45c33-9d6f-452f-83d8-982e23299225",
     "showTitle": false,
     "title": ""
    }
   },
   "outputs": [
    {
     "output_type": "stream",
     "name": "stdout",
     "output_type": "stream",
     "text": [
      "+-----+---+--------------------------------------------+----------+\n|model|id |text                                        |response  |\n+-----+---+--------------------------------------------+----------+\n|1    |1  |My name is Jimmy. Question: What is my name?|Jimmy     |\n|1    |3  |My name is Yanni. Question: What is my name?|Yanni     |\n|1    |2  |My name is Smith. Question: What is my name?|john smith|\n|2    |5  |My name is Jose. Question: What is my name? |Jose      |\n|2    |4  |My name is Dan. Question: What is my name?  |Dan       |\n|2    |6  |My name is Wang. Question: What is my name? |Wang      |\n+-----+---+--------------------------------------------+----------+\n\n"
     ]
    }
   ],
   "source": [
    "df.groupBy([\n",
    "    'model'\n",
    "]).applyInPandas(\n",
    "    prediction_model,\n",
    "    schema = f\"\"\"\n",
    "    model int,\n",
    "    id int, \n",
    "    text string,\n",
    "    response string\n",
    "    \"\"\"\n",
    ").show(100, False)"
   ]
  },
  {
   "cell_type": "markdown",
   "metadata": {
    "application/vnd.databricks.v1+cell": {
     "cellMetadata": {},
     "inputWidgets": {},
     "nuid": "14f1a338-bbd4-4184-b32c-c675cc4701c4",
     "showTitle": false,
     "title": ""
    }
   },
   "source": [
    "# end"
   ]
  }
 ],
 "metadata": {
  "application/vnd.databricks.v1+notebook": {
   "dashboards": [],
   "language": "python",
   "notebookMetadata": {
    "pythonIndentUnit": 4
   },
   "notebookName": "ml_in_pandas_example",
   "notebookOrigID": 1996424649819423,
   "widgets": {}
  }
 },
 "nbformat": 4,
 "nbformat_minor": 0
}
